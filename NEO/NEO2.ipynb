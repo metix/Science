{
 "cells": [
  {
   "cell_type": "markdown",
   "metadata": {},
   "source": [
    "# Near earth objects"
   ]
  },
  {
   "cell_type": "markdown",
   "metadata": {},
   "source": [
    "#### https://cneos.jpl.nasa.gov/ca/"
   ]
  },
  {
   "cell_type": "code",
   "execution_count": 169,
   "metadata": {},
   "outputs": [],
   "source": [
    "from matplotlib import pyplot as plt\n",
    "from matplotlib import colors as colors\n",
    "from datetime import date\n",
    "import pandas as pd\n",
    "import numpy as np"
   ]
  },
  {
   "cell_type": "markdown",
   "source": [
    "### Constants"
   ],
   "metadata": {
    "collapsed": false
   }
  },
  {
   "cell_type": "code",
   "execution_count": 170,
   "outputs": [],
   "source": [
    "zero=0\n",
    "earth_distance_km = 6_371\n",
    "iss_distance_km = 6_371+408\n",
    "geostationary_distance_km = 35_786"
   ],
   "metadata": {
    "collapsed": false,
    "pycharm": {
     "name": "#%%\n"
    }
   }
  },
  {
   "cell_type": "markdown",
   "metadata": {},
   "source": [
    "### Filter"
   ]
  },
  {
   "cell_type": "code",
   "execution_count": 171,
   "metadata": {},
   "outputs": [],
   "source": [
    "# Entfernung in Lunar Distances (float)\n",
    "filter_entfernung = 10\n",
    "\n",
    "# Alle NEOs bis einschließlich folgendes Jahr\n",
    "filter_jahr_max = 2050"
   ]
  },
  {
   "cell_type": "markdown",
   "metadata": {},
   "source": [
    "### data import, cleaning"
   ]
  },
  {
   "cell_type": "code",
   "execution_count": 172,
   "metadata": {},
   "outputs": [],
   "source": [
    "df = pd.read_csv(\"cneos_closeapproach_data.csv\", sep=\",\")\n",
    "df = df.drop(columns=['CA Distance Minimum (LD | au)', 'V relative (km/s)', 'V infinity (km/s)', 'H (mag)', 'Unnamed: 8'])"
   ]
  },
  {
   "cell_type": "code",
   "execution_count": 173,
   "metadata": {},
   "outputs": [
    {
     "data": {
      "text/plain": "                     Object      Close-Approach (CA) Date  \\\n0  99942 Apophis (2004 MN4)   2029-Apr-13 21:46 ± < 00:01   \n1               (2010 RF12)  2095-Sep-06 00:06 ±    00:44   \n\n  CA Distance Nominal (LD | au)        Diameter  \n0                0.10 | 0.00025    0.34±0.04 km  \n1                0.10 | 0.00026  5.6 m -   12 m  ",
      "text/html": "<div>\n<style scoped>\n    .dataframe tbody tr th:only-of-type {\n        vertical-align: middle;\n    }\n\n    .dataframe tbody tr th {\n        vertical-align: top;\n    }\n\n    .dataframe thead th {\n        text-align: right;\n    }\n</style>\n<table border=\"1\" class=\"dataframe\">\n  <thead>\n    <tr style=\"text-align: right;\">\n      <th></th>\n      <th>Object</th>\n      <th>Close-Approach (CA) Date</th>\n      <th>CA Distance Nominal (LD | au)</th>\n      <th>Diameter</th>\n    </tr>\n  </thead>\n  <tbody>\n    <tr>\n      <th>0</th>\n      <td>99942 Apophis (2004 MN4)</td>\n      <td>2029-Apr-13 21:46 ± &lt; 00:01</td>\n      <td>0.10 | 0.00025</td>\n      <td>0.34±0.04 km</td>\n    </tr>\n    <tr>\n      <th>1</th>\n      <td>(2010 RF12)</td>\n      <td>2095-Sep-06 00:06 ±    00:44</td>\n      <td>0.10 | 0.00026</td>\n      <td>5.6 m -   12 m</td>\n    </tr>\n  </tbody>\n</table>\n</div>"
     },
     "execution_count": 173,
     "metadata": {},
     "output_type": "execute_result"
    }
   ],
   "source": [
    "df.head(2)"
   ]
  },
  {
   "cell_type": "code",
   "execution_count": 174,
   "metadata": {},
   "outputs": [
    {
     "data": {
      "text/plain": "Object                           object\nClose-Approach (CA) Date         object\nCA Distance Nominal (LD | au)    object\nDiameter                         object\ndtype: object"
     },
     "execution_count": 174,
     "metadata": {},
     "output_type": "execute_result"
    }
   ],
   "source": [
    "df.dtypes"
   ]
  },
  {
   "cell_type": "code",
   "execution_count": 175,
   "metadata": {},
   "outputs": [],
   "source": [
    "df[\"LD\"] = df[\"CA Distance Nominal (LD | au)\"].str.split(' ', expand = True)[0]"
   ]
  },
  {
   "cell_type": "code",
   "execution_count": 176,
   "metadata": {},
   "outputs": [
    {
     "data": {
      "text/plain": "                     Object      Close-Approach (CA) Date  \\\n0  99942 Apophis (2004 MN4)   2029-Apr-13 21:46 ± < 00:01   \n1               (2010 RF12)  2095-Sep-06 00:06 ±    00:44   \n\n  CA Distance Nominal (LD | au)        Diameter    LD  \n0                0.10 | 0.00025    0.34±0.04 km  0.10  \n1                0.10 | 0.00026  5.6 m -   12 m  0.10  ",
      "text/html": "<div>\n<style scoped>\n    .dataframe tbody tr th:only-of-type {\n        vertical-align: middle;\n    }\n\n    .dataframe tbody tr th {\n        vertical-align: top;\n    }\n\n    .dataframe thead th {\n        text-align: right;\n    }\n</style>\n<table border=\"1\" class=\"dataframe\">\n  <thead>\n    <tr style=\"text-align: right;\">\n      <th></th>\n      <th>Object</th>\n      <th>Close-Approach (CA) Date</th>\n      <th>CA Distance Nominal (LD | au)</th>\n      <th>Diameter</th>\n      <th>LD</th>\n    </tr>\n  </thead>\n  <tbody>\n    <tr>\n      <th>0</th>\n      <td>99942 Apophis (2004 MN4)</td>\n      <td>2029-Apr-13 21:46 ± &lt; 00:01</td>\n      <td>0.10 | 0.00025</td>\n      <td>0.34±0.04 km</td>\n      <td>0.10</td>\n    </tr>\n    <tr>\n      <th>1</th>\n      <td>(2010 RF12)</td>\n      <td>2095-Sep-06 00:06 ±    00:44</td>\n      <td>0.10 | 0.00026</td>\n      <td>5.6 m -   12 m</td>\n      <td>0.10</td>\n    </tr>\n  </tbody>\n</table>\n</div>"
     },
     "execution_count": 176,
     "metadata": {},
     "output_type": "execute_result"
    }
   ],
   "source": [
    "df.head(2)"
   ]
  },
  {
   "cell_type": "code",
   "execution_count": 177,
   "metadata": {},
   "outputs": [],
   "source": [
    "df[\"LD\"] = pd.to_numeric(df[\"LD\"], errors='coerce')"
   ]
  },
  {
   "cell_type": "code",
   "execution_count": 178,
   "metadata": {},
   "outputs": [
    {
     "data": {
      "text/plain": "Object                            object\nClose-Approach (CA) Date          object\nCA Distance Nominal (LD | au)     object\nDiameter                          object\nLD                               float64\ndtype: object"
     },
     "execution_count": 178,
     "metadata": {},
     "output_type": "execute_result"
    }
   ],
   "source": [
    "df.dtypes"
   ]
  },
  {
   "cell_type": "code",
   "execution_count": 179,
   "outputs": [],
   "source": [
    "# +/- ignorieren, ungefähre zeit reicht erstmal aus\n",
    "df[\"approach_time\"] = pd.to_datetime(df[\"Close-Approach (CA) Date\"].str.split('±', expand = True)[0])\n",
    "df[\"approach_time_month\"] = pd.DatetimeIndex(df['approach_time']).month"
   ],
   "metadata": {
    "collapsed": false,
    "pycharm": {
     "name": "#%%\n"
    }
   }
  },
  {
   "cell_type": "code",
   "execution_count": 180,
   "metadata": {},
   "outputs": [
    {
     "data": {
      "text/plain": "                     Object      Close-Approach (CA) Date  \\\n1  99942 Apophis (2004 MN4)   2029-Apr-13 21:46 ± < 00:01   \n2               (2010 RF12)  2095-Sep-06 00:06 ±    00:44   \n\n  CA Distance Nominal (LD | au)        Diameter   LD       approach_time  \\\n1                0.10 | 0.00025    0.34±0.04 km  0.1 2029-04-13 21:46:00   \n2                0.10 | 0.00026  5.6 m -   12 m  0.1 2095-09-06 00:06:00   \n\n   approach_time_month  x_axis  \n1                    4       1  \n2                    9       2  ",
      "text/html": "<div>\n<style scoped>\n    .dataframe tbody tr th:only-of-type {\n        vertical-align: middle;\n    }\n\n    .dataframe tbody tr th {\n        vertical-align: top;\n    }\n\n    .dataframe thead th {\n        text-align: right;\n    }\n</style>\n<table border=\"1\" class=\"dataframe\">\n  <thead>\n    <tr style=\"text-align: right;\">\n      <th></th>\n      <th>Object</th>\n      <th>Close-Approach (CA) Date</th>\n      <th>CA Distance Nominal (LD | au)</th>\n      <th>Diameter</th>\n      <th>LD</th>\n      <th>approach_time</th>\n      <th>approach_time_month</th>\n      <th>x_axis</th>\n    </tr>\n  </thead>\n  <tbody>\n    <tr>\n      <th>1</th>\n      <td>99942 Apophis (2004 MN4)</td>\n      <td>2029-Apr-13 21:46 ± &lt; 00:01</td>\n      <td>0.10 | 0.00025</td>\n      <td>0.34±0.04 km</td>\n      <td>0.1</td>\n      <td>2029-04-13 21:46:00</td>\n      <td>4</td>\n      <td>1</td>\n    </tr>\n    <tr>\n      <th>2</th>\n      <td>(2010 RF12)</td>\n      <td>2095-Sep-06 00:06 ±    00:44</td>\n      <td>0.10 | 0.00026</td>\n      <td>5.6 m -   12 m</td>\n      <td>0.1</td>\n      <td>2095-09-06 00:06:00</td>\n      <td>9</td>\n      <td>2</td>\n    </tr>\n  </tbody>\n</table>\n</div>"
     },
     "execution_count": 180,
     "metadata": {},
     "output_type": "execute_result"
    }
   ],
   "source": [
    "df.index = np.arange(1, len(df) + 1 )\n",
    "df[\"x_axis\"] = df.index\n",
    "df.head(2)"
   ]
  },
  {
   "cell_type": "markdown",
   "metadata": {},
   "source": [
    "### calculation"
   ]
  },
  {
   "cell_type": "code",
   "execution_count": 181,
   "metadata": {},
   "outputs": [],
   "source": [
    "df[\"distance_km\"] = df[\"LD\"]*394_399"
   ]
  },
  {
   "cell_type": "code",
   "execution_count": 182,
   "metadata": {},
   "outputs": [],
   "source": [
    "df = df.loc[df[\"LD\"] < filter_entfernung]\n",
    "\n",
    "df = df.loc[df[\"approach_time\"].dt.year <= filter_jahr_max]"
   ]
  },
  {
   "cell_type": "code",
   "execution_count": 183,
   "metadata": {},
   "outputs": [
    {
     "data": {
      "text/plain": "                     Object     Close-Approach (CA) Date  \\\n1  99942 Apophis (2004 MN4)  2029-Apr-13 21:46 ± < 00:01   \n4                (2007 UD6)  2048-Oct-18 02:48 ± 2_09:26   \n\n  CA Distance Nominal (LD | au)        Diameter    LD       approach_time  \\\n1                0.10 | 0.00025    0.34±0.04 km  0.10 2029-04-13 21:46:00   \n4                0.22 | 0.00057  5.8 m -   13 m  0.22 2048-10-18 02:48:00   \n\n   approach_time_month  x_axis  distance_km  \n1                    4       1     39439.90  \n4                   10       4     86767.78  ",
      "text/html": "<div>\n<style scoped>\n    .dataframe tbody tr th:only-of-type {\n        vertical-align: middle;\n    }\n\n    .dataframe tbody tr th {\n        vertical-align: top;\n    }\n\n    .dataframe thead th {\n        text-align: right;\n    }\n</style>\n<table border=\"1\" class=\"dataframe\">\n  <thead>\n    <tr style=\"text-align: right;\">\n      <th></th>\n      <th>Object</th>\n      <th>Close-Approach (CA) Date</th>\n      <th>CA Distance Nominal (LD | au)</th>\n      <th>Diameter</th>\n      <th>LD</th>\n      <th>approach_time</th>\n      <th>approach_time_month</th>\n      <th>x_axis</th>\n      <th>distance_km</th>\n    </tr>\n  </thead>\n  <tbody>\n    <tr>\n      <th>1</th>\n      <td>99942 Apophis (2004 MN4)</td>\n      <td>2029-Apr-13 21:46 ± &lt; 00:01</td>\n      <td>0.10 | 0.00025</td>\n      <td>0.34±0.04 km</td>\n      <td>0.10</td>\n      <td>2029-04-13 21:46:00</td>\n      <td>4</td>\n      <td>1</td>\n      <td>39439.90</td>\n    </tr>\n    <tr>\n      <th>4</th>\n      <td>(2007 UD6)</td>\n      <td>2048-Oct-18 02:48 ± 2_09:26</td>\n      <td>0.22 | 0.00057</td>\n      <td>5.8 m -   13 m</td>\n      <td>0.22</td>\n      <td>2048-10-18 02:48:00</td>\n      <td>10</td>\n      <td>4</td>\n      <td>86767.78</td>\n    </tr>\n  </tbody>\n</table>\n</div>"
     },
     "execution_count": 183,
     "metadata": {},
     "output_type": "execute_result"
    }
   ],
   "source": [
    "df.head(2)"
   ]
  },
  {
   "cell_type": "markdown",
   "metadata": {},
   "source": [
    "### size"
   ]
  },
  {
   "cell_type": "code",
   "execution_count": 184,
   "metadata": {},
   "outputs": [
    {
     "data": {
      "text/plain": "                     Object      Close-Approach (CA) Date  \\\n1  99942 Apophis (2004 MN4)   2029-Apr-13 21:46 ± < 00:01   \n4                (2007 UD6)   2048-Oct-18 02:48 ± 2_09:26   \n7               (2016 RD34)  2047-Sep-05 10:42 ±    03:48   \n\n  CA Distance Nominal (LD | au)        Diameter    LD       approach_time  \\\n1                0.10 | 0.00025    0.34±0.04 km  0.10 2029-04-13 21:46:00   \n4                0.22 | 0.00057  5.8 m -   13 m  0.22 2048-10-18 02:48:00   \n7                0.27 | 0.00069  7.7 m -   17 m  0.27 2047-09-05 10:42:00   \n\n   approach_time_month  x_axis  distance_km size_unit    d1  size_factor  \n1                    4       1     39439.90        km  0.34         1000  \n4                   10       4     86767.78         m   NaN            1  \n7                    9       7    106487.73         m   NaN            1  ",
      "text/html": "<div>\n<style scoped>\n    .dataframe tbody tr th:only-of-type {\n        vertical-align: middle;\n    }\n\n    .dataframe tbody tr th {\n        vertical-align: top;\n    }\n\n    .dataframe thead th {\n        text-align: right;\n    }\n</style>\n<table border=\"1\" class=\"dataframe\">\n  <thead>\n    <tr style=\"text-align: right;\">\n      <th></th>\n      <th>Object</th>\n      <th>Close-Approach (CA) Date</th>\n      <th>CA Distance Nominal (LD | au)</th>\n      <th>Diameter</th>\n      <th>LD</th>\n      <th>approach_time</th>\n      <th>approach_time_month</th>\n      <th>x_axis</th>\n      <th>distance_km</th>\n      <th>size_unit</th>\n      <th>d1</th>\n      <th>size_factor</th>\n    </tr>\n  </thead>\n  <tbody>\n    <tr>\n      <th>1</th>\n      <td>99942 Apophis (2004 MN4)</td>\n      <td>2029-Apr-13 21:46 ± &lt; 00:01</td>\n      <td>0.10 | 0.00025</td>\n      <td>0.34±0.04 km</td>\n      <td>0.10</td>\n      <td>2029-04-13 21:46:00</td>\n      <td>4</td>\n      <td>1</td>\n      <td>39439.90</td>\n      <td>km</td>\n      <td>0.34</td>\n      <td>1000</td>\n    </tr>\n    <tr>\n      <th>4</th>\n      <td>(2007 UD6)</td>\n      <td>2048-Oct-18 02:48 ± 2_09:26</td>\n      <td>0.22 | 0.00057</td>\n      <td>5.8 m -   13 m</td>\n      <td>0.22</td>\n      <td>2048-10-18 02:48:00</td>\n      <td>10</td>\n      <td>4</td>\n      <td>86767.78</td>\n      <td>m</td>\n      <td>NaN</td>\n      <td>1</td>\n    </tr>\n    <tr>\n      <th>7</th>\n      <td>(2016 RD34)</td>\n      <td>2047-Sep-05 10:42 ±    03:48</td>\n      <td>0.27 | 0.00069</td>\n      <td>7.7 m -   17 m</td>\n      <td>0.27</td>\n      <td>2047-09-05 10:42:00</td>\n      <td>9</td>\n      <td>7</td>\n      <td>106487.73</td>\n      <td>m</td>\n      <td>NaN</td>\n      <td>1</td>\n    </tr>\n  </tbody>\n</table>\n</div>"
     },
     "execution_count": 184,
     "metadata": {},
     "output_type": "execute_result"
    }
   ],
   "source": [
    "# km oder m auslesen\n",
    "df[\"size_unit\"] = df[\"Diameter\"].str[-2:]\n",
    "\n",
    "\n",
    "# Teile alle Durchmesser mit ±\n",
    "df[\"d1\"] = df[\"Diameter\"].str.split('±', expand = True)[0]\n",
    "df[\"d1\"] = pd.to_numeric(df[\"d1\"], errors='coerce')\n",
    "\n",
    "# definiere size factor = 1000, ausser bei \" m\" = 1\n",
    "df[\"size_factor\"] = 1_000\n",
    "df.loc[df[\"size_unit\"] == \" m\", \"size_factor\"] = 1\n",
    "df.head(3)"
   ]
  },
  {
   "cell_type": "code",
   "execution_count": 185,
   "metadata": {
    "scrolled": true
   },
   "outputs": [
    {
     "data": {
      "text/plain": "                     Object      Close-Approach (CA) Date        Diameter  \\\n1  99942 Apophis (2004 MN4)   2029-Apr-13 21:46 ± < 00:01    0.34±0.04 km   \n4                (2007 UD6)   2048-Oct-18 02:48 ± 2_09:26  5.8 m -   13 m   \n7               (2016 RD34)  2047-Sep-05 10:42 ±    03:48  7.7 m -   17 m   \n\n     LD       approach_time  approach_time_month  x_axis  distance_km  \\\n1  0.10 2029-04-13 21:46:00                    4       1     39439.90   \n4  0.22 2048-10-18 02:48:00                   10       4     86767.78   \n7  0.27 2047-09-05 10:42:00                    9       7    106487.73   \n\n   diameter_mean  \n1         340.00  \n4           9.40  \n7          12.35  ",
      "text/html": "<div>\n<style scoped>\n    .dataframe tbody tr th:only-of-type {\n        vertical-align: middle;\n    }\n\n    .dataframe tbody tr th {\n        vertical-align: top;\n    }\n\n    .dataframe thead th {\n        text-align: right;\n    }\n</style>\n<table border=\"1\" class=\"dataframe\">\n  <thead>\n    <tr style=\"text-align: right;\">\n      <th></th>\n      <th>Object</th>\n      <th>Close-Approach (CA) Date</th>\n      <th>Diameter</th>\n      <th>LD</th>\n      <th>approach_time</th>\n      <th>approach_time_month</th>\n      <th>x_axis</th>\n      <th>distance_km</th>\n      <th>diameter_mean</th>\n    </tr>\n  </thead>\n  <tbody>\n    <tr>\n      <th>1</th>\n      <td>99942 Apophis (2004 MN4)</td>\n      <td>2029-Apr-13 21:46 ± &lt; 00:01</td>\n      <td>0.34±0.04 km</td>\n      <td>0.10</td>\n      <td>2029-04-13 21:46:00</td>\n      <td>4</td>\n      <td>1</td>\n      <td>39439.90</td>\n      <td>340.00</td>\n    </tr>\n    <tr>\n      <th>4</th>\n      <td>(2007 UD6)</td>\n      <td>2048-Oct-18 02:48 ± 2_09:26</td>\n      <td>5.8 m -   13 m</td>\n      <td>0.22</td>\n      <td>2048-10-18 02:48:00</td>\n      <td>10</td>\n      <td>4</td>\n      <td>86767.78</td>\n      <td>9.40</td>\n    </tr>\n    <tr>\n      <th>7</th>\n      <td>(2016 RD34)</td>\n      <td>2047-Sep-05 10:42 ±    03:48</td>\n      <td>7.7 m -   17 m</td>\n      <td>0.27</td>\n      <td>2047-09-05 10:42:00</td>\n      <td>9</td>\n      <td>7</td>\n      <td>106487.73</td>\n      <td>12.35</td>\n    </tr>\n  </tbody>\n</table>\n</div>"
     },
     "execution_count": 185,
     "metadata": {},
     "output_type": "execute_result"
    }
   ],
   "source": [
    "# mittlerer Durchmesser ermitteln\n",
    "\n",
    "df[\"d_von\"] = df[\"Diameter\"].str.split(' ', expand = True)[0]\n",
    "df[\"d_von\"] = pd.to_numeric(df[\"d_von\"], errors='coerce')\n",
    "\n",
    "df[\"d_bis\"] = df[\"Diameter\"].str.split('- ', expand = True)[1]\n",
    "df[\"d_bis\"] = df[\"d_bis\"].str.split(' m', expand = True)[0]\n",
    "df[\"d_bis\"] = pd.to_numeric(df[\"d_bis\"], errors='coerce')\n",
    "\n",
    "df[\"mittel1\"] = df[\"d1\"] * df[\"size_factor\"]\n",
    "df[\"mittel1\"] = df[\"mittel1\"].fillna(1)\n",
    "\n",
    "df[\"mittel2\"] = (df[\"d_von\"]+df[\"d_bis\"]) *(1/2) * df[\"size_factor\"]\n",
    "df[\"mittel2\"] = df[\"mittel2\"].fillna(1)\n",
    "\n",
    "df[\"diameter_mean\"] = df[\"mittel1\"] * df[\"mittel2\"]\n",
    "\n",
    "df = df.drop(columns=['d1', \n",
    "                      'd_von', \n",
    "                      'd_bis', \n",
    "                      'mittel1', \n",
    "                      'mittel2', \n",
    "                      'size_factor', \n",
    "                      'CA Distance Nominal (LD | au)', \n",
    "                      'size_unit'])\n",
    "\n",
    "df.head(3)"
   ]
  },
  {
   "cell_type": "code",
   "execution_count": 186,
   "metadata": {
    "scrolled": true
   },
   "outputs": [],
   "source": [
    "# Liste erstellen für die Größen"
   ]
  },
  {
   "cell_type": "code",
   "execution_count": 187,
   "metadata": {},
   "outputs": [
    {
     "data": {
      "text/plain": "3070.0"
     },
     "execution_count": 187,
     "metadata": {},
     "output_type": "execute_result"
    }
   ],
   "source": [
    "max_größe = df[\"diameter_mean\"].max()\n",
    "max_größe"
   ]
  },
  {
   "cell_type": "code",
   "execution_count": 188,
   "metadata": {},
   "outputs": [
    {
     "data": {
      "text/plain": "                     Object      Close-Approach (CA) Date        Diameter  \\\n1  99942 Apophis (2004 MN4)   2029-Apr-13 21:46 ± < 00:01    0.34±0.04 km   \n4                (2007 UD6)   2048-Oct-18 02:48 ± 2_09:26  5.8 m -   13 m   \n7               (2016 RD34)  2047-Sep-05 10:42 ±    03:48  7.7 m -   17 m   \n9               (2012 UE34)   2041-Apr-08 02:55 ± < 00:01   58 m -  130 m   \n\n     LD       approach_time  approach_time_month  x_axis  distance_km  \\\n1  0.10 2029-04-13 21:46:00                    4       1     39439.90   \n4  0.22 2048-10-18 02:48:00                   10       4     86767.78   \n7  0.27 2047-09-05 10:42:00                    9       7    106487.73   \n9  0.29 2041-04-08 02:55:00                    4       9    114375.71   \n\n   diameter_mean  marker_size  \n1         340.00    33.224756  \n4           9.40     0.918567  \n7          12.35     1.206840  \n9          94.00     9.185668  ",
      "text/html": "<div>\n<style scoped>\n    .dataframe tbody tr th:only-of-type {\n        vertical-align: middle;\n    }\n\n    .dataframe tbody tr th {\n        vertical-align: top;\n    }\n\n    .dataframe thead th {\n        text-align: right;\n    }\n</style>\n<table border=\"1\" class=\"dataframe\">\n  <thead>\n    <tr style=\"text-align: right;\">\n      <th></th>\n      <th>Object</th>\n      <th>Close-Approach (CA) Date</th>\n      <th>Diameter</th>\n      <th>LD</th>\n      <th>approach_time</th>\n      <th>approach_time_month</th>\n      <th>x_axis</th>\n      <th>distance_km</th>\n      <th>diameter_mean</th>\n      <th>marker_size</th>\n    </tr>\n  </thead>\n  <tbody>\n    <tr>\n      <th>1</th>\n      <td>99942 Apophis (2004 MN4)</td>\n      <td>2029-Apr-13 21:46 ± &lt; 00:01</td>\n      <td>0.34±0.04 km</td>\n      <td>0.10</td>\n      <td>2029-04-13 21:46:00</td>\n      <td>4</td>\n      <td>1</td>\n      <td>39439.90</td>\n      <td>340.00</td>\n      <td>33.224756</td>\n    </tr>\n    <tr>\n      <th>4</th>\n      <td>(2007 UD6)</td>\n      <td>2048-Oct-18 02:48 ± 2_09:26</td>\n      <td>5.8 m -   13 m</td>\n      <td>0.22</td>\n      <td>2048-10-18 02:48:00</td>\n      <td>10</td>\n      <td>4</td>\n      <td>86767.78</td>\n      <td>9.40</td>\n      <td>0.918567</td>\n    </tr>\n    <tr>\n      <th>7</th>\n      <td>(2016 RD34)</td>\n      <td>2047-Sep-05 10:42 ±    03:48</td>\n      <td>7.7 m -   17 m</td>\n      <td>0.27</td>\n      <td>2047-09-05 10:42:00</td>\n      <td>9</td>\n      <td>7</td>\n      <td>106487.73</td>\n      <td>12.35</td>\n      <td>1.206840</td>\n    </tr>\n    <tr>\n      <th>9</th>\n      <td>(2012 UE34)</td>\n      <td>2041-Apr-08 02:55 ± &lt; 00:01</td>\n      <td>58 m -  130 m</td>\n      <td>0.29</td>\n      <td>2041-04-08 02:55:00</td>\n      <td>4</td>\n      <td>9</td>\n      <td>114375.71</td>\n      <td>94.00</td>\n      <td>9.185668</td>\n    </tr>\n  </tbody>\n</table>\n</div>"
     },
     "execution_count": 188,
     "metadata": {},
     "output_type": "execute_result"
    }
   ],
   "source": [
    "df[\"marker_size\"] = 300 * (df[\"diameter_mean\"] / max_größe)\n",
    "\n",
    "\n",
    "\n",
    "# definiere size factor = 1000, ausser bei \" m\" = 1\n",
    "#df[\"marker_size2\"] = 15\n",
    "#df.loc[df[\"marker_size\"] > 15, \"marker_size2\"] = 200 * (df[\"diameter_mean\"] / max_größe)\n",
    "\n",
    "\n",
    "\n",
    "df.head(4)"
   ]
  },
  {
   "cell_type": "markdown",
   "metadata": {},
   "source": [
    "### visualize"
   ]
  },
  {
   "cell_type": "code",
   "execution_count": 189,
   "metadata": {
    "scrolled": true
   },
   "outputs": [
    {
     "ename": "TypeError",
     "evalue": "bar() missing 1 required positional argument: 'height'",
     "output_type": "error",
     "traceback": [
      "\u001B[0;31m---------------------------------------------------------------------------\u001B[0m",
      "\u001B[0;31mTypeError\u001B[0m                                 Traceback (most recent call last)",
      "\u001B[0;32m/tmp/ipykernel_13684/487767823.py\u001B[0m in \u001B[0;36m<module>\u001B[0;34m\u001B[0m\n\u001B[1;32m      8\u001B[0m \u001B[0;34m\u001B[0m\u001B[0m\n\u001B[1;32m      9\u001B[0m \u001B[0;34m\u001B[0m\u001B[0m\n\u001B[0;32m---> 10\u001B[0;31m \u001B[0mplt\u001B[0m\u001B[0;34m.\u001B[0m\u001B[0mbar\u001B[0m\u001B[0;34m(\u001B[0m\u001B[0mgrouped\u001B[0m\u001B[0;34m)\u001B[0m\u001B[0;34m\u001B[0m\u001B[0;34m\u001B[0m\u001B[0m\n\u001B[0m\u001B[1;32m     11\u001B[0m \u001B[0;34m\u001B[0m\u001B[0m\n\u001B[1;32m     12\u001B[0m \u001B[0;31m#plt.scatter(df[\"approach_time\"], df[\"distance_km\"], vmin=df[\"diameter_mean\"].min(), vmax=df[\"diameter_mean\"].max(), alpha=0.5, linewidths=1, c=df[\"diameter_mean\"], cmap=plt.cm.get_cmap('rainbow'), marker=\"o\", s=df[\"diameter_mean\"] * 1, label=\"Near earth object\")\u001B[0m\u001B[0;34m\u001B[0m\u001B[0;34m\u001B[0m\u001B[0m\n",
      "\u001B[0;31mTypeError\u001B[0m: bar() missing 1 required positional argument: 'height'"
     ]
    },
    {
     "data": {
      "text/plain": "<Figure size 1152x648 with 0 Axes>"
     },
     "metadata": {},
     "output_type": "display_data"
    }
   ],
   "source": [
    "import matplotlib\n",
    "\n",
    "plt.style.use('seaborn')\n",
    "\n",
    "plt.figure(figsize=(16, 9))\n",
    "\n",
    "grouped = df.groupby('approach_time_month')[\"Object\"].count()\n",
    "\n",
    "\n",
    "plt.bar(grouped[])\n",
    "\n",
    "#plt.scatter(df[\"approach_time\"], df[\"distance_km\"], vmin=df[\"diameter_mean\"].min(), vmax=df[\"diameter_mean\"].max(), alpha=0.5, linewidths=1, c=df[\"diameter_mean\"], cmap=plt.cm.get_cmap('rainbow'), marker=\"o\", s=df[\"diameter_mean\"] * 1, label=\"Near earth object\")\n",
    "\n",
    "#plt.axhline(y=geostationary_distance_km, color='red', alpha=0.7, linestyle='-', label=\"geostationary orbit\", marker=\"\", markersize=10)\n",
    "#plt.axhline(y=iss_distance_km, color='orange', alpha=0.7, linestyle='-', label=\"iss orbit\", marker=\"\", markersize=10)\n",
    "#plt.axhline(y=zero, color='blue', alpha=0.7, linestyle='-', label=\"earth\", marker=\"\", markersize=10)\n",
    "#plt.axhspan(zero, earth_distance_km, facecolor='blue', alpha=0.7)\n",
    "\n",
    "#plt.xlabel(\"Year of Approach\", color=\"black\", alpha=0.8, fontsize=18)\n",
    "#plt.ylabel(\"Distance [km]\", color=\"black\", alpha=0.8, fontsize=18)\n",
    "\n",
    "#plt.tick_params(labelsize=20, axis='y')\n",
    "#plt.tick_params(labelsize=15, axis='x')\n",
    "\n",
    "#plt.figure(1).autofmt_xdate()\n",
    "\n",
    "legend = plt.legend(loc='center',\n",
    "           bbox_to_anchor=(0.5, -0.2),\n",
    "           fancybox=True,\n",
    "           shadow=True,\n",
    "           ncol=6,\n",
    "           fontsize=10,\n",
    "           prop = {\n",
    "               'size': 16\n",
    "           })\n",
    "\n",
    "# fix für markersizes in legende: für alle markersizes in der legende fixe value setzen\n",
    "# weil beim scatter plot + variablen markersize die markersize in der legende nicht fix ist, und daher viel zu groß wird.\n",
    "for legobj in legend.legendHandles:\n",
    "    legobj._sizes = [30]\n",
    "\n",
    "plt.title(f' Near earth objects - distance to earth - diameter (Data: NASA) \\n\\n', fontsize=25)\n",
    "plt.suptitle(f'Filter: distance < {filter_entfernung} Lunar Distances, Future only, max. diameter = {max_größe} m, max. year = {filter_jahr_max} \\n https://cneos.jpl.nasa.gov/ca/', fontsize=15, y=0.95)\n",
    "\n",
    "plt.savefig(f'NEO_{filter_entfernung} Lunar Distances.png', dpi=300, bbox_inches='tight')\n",
    "\n"
   ]
  },
  {
   "cell_type": "code",
   "execution_count": null,
   "metadata": {},
   "outputs": [],
   "source": [
    "df.head(50)\n",
    "\n",
    "df[\"diameter_mean\"].max()"
   ]
  },
  {
   "cell_type": "code",
   "execution_count": null,
   "metadata": {
    "scrolled": true,
    "pycharm": {
     "name": "#%%\n"
    }
   },
   "outputs": [],
   "source": [
    "df.plot.scatter(x=['x_axis'], y=['distance_km'], s=df['marker_size'], c='g')\n"
   ]
  }
 ],
 "metadata": {
  "kernelspec": {
   "display_name": "Python 3",
   "language": "python",
   "name": "python3"
  },
  "language_info": {
   "codemirror_mode": {
    "name": "ipython",
    "version": 3
   },
   "file_extension": ".py",
   "mimetype": "text/x-python",
   "name": "python",
   "nbconvert_exporter": "python",
   "pygments_lexer": "ipython3",
   "version": "3.8.3"
  }
 },
 "nbformat": 4,
 "nbformat_minor": 4
}
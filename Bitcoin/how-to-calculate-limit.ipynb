{
 "cells": [
  {
   "cell_type": "markdown",
   "metadata": {
    "pycharm": {
     "name": "#%% md\n"
    }
   },
   "source": [
    "\n",
    "# First five halvings"
   ]
  },
  {
   "cell_type": "code",
   "execution_count": 1,
   "outputs": [
    {
     "data": {
      "text/plain": "<IPython.core.display.HTML object>",
      "text/html": "<table border=\"1\" class=\"dataframe\">\n  <thead>\n    <tr style=\"text-align: right;\">\n      <th>Halving</th>\n      <th>Block Count (Blockchain Height)</th>\n      <th>Subsidy (in Bitcoin)</th>\n      <th>Subsidy (in Satoshi)</th>\n    </tr>\n  </thead>\n  <tbody>\n    <tr>\n      <td>0</td>\n      <td>0 - 210000</td>\n      <td>50.0000</td>\n      <td>5000000000</td>\n    </tr>\n    <tr>\n      <td>1</td>\n      <td>210000 - 420000</td>\n      <td>25.0000</td>\n      <td>2500000000</td>\n    </tr>\n    <tr>\n      <td>2</td>\n      <td>420000 - 630000</td>\n      <td>12.5000</td>\n      <td>1250000000</td>\n    </tr>\n    <tr>\n      <td>3</td>\n      <td>630000 - 840000</td>\n      <td>6.2500</td>\n      <td>625000000</td>\n    </tr>\n    <tr>\n      <td>4</td>\n      <td>840000 - 1050000</td>\n      <td>3.1250</td>\n      <td>312500000</td>\n    </tr>\n    <tr>\n      <td>5</td>\n      <td>1050000 - 1260000</td>\n      <td>1.5625</td>\n      <td>156250000</td>\n    </tr>\n  </tbody>\n</table>"
     },
     "metadata": {},
     "output_type": "display_data"
    }
   ],
   "source": [
    "import pandas as pd\n",
    "from IPython.display import display, HTML\n",
    "\n",
    "rows = []\n",
    "COIN = 100_000_000\n",
    "\n",
    "for i in range(0, 6):\n",
    "    rows.append([i, str(210_000 * i) + \" - \" + str(210_000 * (i+1)), 50/(2 ** i) , int(50.0/(2 ** i) * COIN)])\n",
    "\n",
    "df = pd.DataFrame(rows, columns=[\"Halving\", \"Block Count (Blockchain Height)\", \"Subsidy (in Bitcoin)\", \"Subsidy (in Satoshi)\" ])\n",
    "\n",
    "display(HTML(df.to_html(index=False)))"
   ],
   "metadata": {
    "collapsed": false,
    "pycharm": {
     "name": "#%%\n"
    }
   }
  },
  {
   "cell_type": "markdown",
   "source": [
    "\n",
    "# Halving 30-35, float vs integer"
   ],
   "metadata": {
    "collapsed": false
   }
  },
  {
   "cell_type": "code",
   "execution_count": 2,
   "outputs": [
    {
     "data": {
      "text/plain": "<IPython.core.display.HTML object>",
      "text/html": "<table border=\"1\" class=\"dataframe\">\n  <thead>\n    <tr style=\"text-align: right;\">\n      <th>Halving</th>\n      <th>Block Amount (Blockchain Height)</th>\n      <th>Subsidy (in Satoshi) [float]</th>\n      <th>Subsidy (in Satoshi) [integer]</th>\n    </tr>\n  </thead>\n  <tbody>\n    <tr>\n      <td>30</td>\n      <td>6300000 - 6510000</td>\n      <td>4.656613</td>\n      <td>4</td>\n    </tr>\n    <tr>\n      <td>31</td>\n      <td>6510000 - 6720000</td>\n      <td>2.328306</td>\n      <td>2</td>\n    </tr>\n    <tr>\n      <td>32</td>\n      <td>6720000 - 6930000</td>\n      <td>1.164153</td>\n      <td>1</td>\n    </tr>\n    <tr>\n      <td>33</td>\n      <td>6930000 - 7140000</td>\n      <td>0.582077</td>\n      <td>0</td>\n    </tr>\n    <tr>\n      <td>34</td>\n      <td>7140000 - 7350000</td>\n      <td>0.291038</td>\n      <td>0</td>\n    </tr>\n    <tr>\n      <td>35</td>\n      <td>7350000 - 7560000</td>\n      <td>0.145519</td>\n      <td>0</td>\n    </tr>\n  </tbody>\n</table>"
     },
     "metadata": {},
     "output_type": "display_data"
    }
   ],
   "source": [
    "import pandas as pd\n",
    "from IPython.display import display, HTML\n",
    "\n",
    "rows = []\n",
    "COIN = 100_000_000\n",
    "\n",
    "for i in range(30, 35 + 1):\n",
    "    rows.append([i, str(210_000 * i) + \" - \" + str(210_000 * (i+1)), 50.0/(2 ** i) * COIN, int(50.0/(2 ** i) * COIN)])\n",
    "\n",
    "df = pd.DataFrame(rows, columns=[\"Halving\", \"Block Amount (Blockchain Height)\", \"Subsidy (in Satoshi) [float]\", \"Subsidy (in Satoshi) [integer]\" ])\n",
    "\n",
    "display(HTML(df.to_html(index=False)))"
   ],
   "metadata": {
    "collapsed": false,
    "pycharm": {
     "name": "#%%\n"
    }
   }
  },
  {
   "cell_type": "markdown",
   "source": [
    "\n",
    "# Subisdy Graph"
   ],
   "metadata": {
    "collapsed": false
   }
  },
  {
   "cell_type": "code",
   "execution_count": 3,
   "metadata": {
    "pycharm": {
     "name": "#%%\n"
    }
   },
   "outputs": [
    {
     "data": {
      "text/plain": "<Figure size 800x400 with 1 Axes>",
      "image/png": "[encoded data removed]"
     },
     "metadata": {
      "needs_background": "light"
     },
     "output_type": "display_data"
    }
   ],
   "source": [
    "import numpy as np\n",
    "import matplotlib.pyplot as plot\n",
    "from matplotlib.pyplot import figure\n",
    "from matplotlib.ticker import FormatStrFormatter\n",
    "\n",
    "COIN = 100_000_000\n",
    "initial_block_reward = 50\n",
    "halving_interval = 210_000\n",
    "halvings = 64\n",
    "current_blockchain_height = 721_498\n",
    "current_date = '02.02.2022'\n",
    "\n",
    "bitcoin_creation_dead_blockchain_height = 6_930_000\n",
    "\n",
    "blocks = np.arange(halvings) * halving_interval\n",
    "reward = (COIN * initial_block_reward / (2 ** np.arange(halvings))).astype(int) / COIN\n",
    "\n",
    "figure(figsize=(10, 5), dpi=80)\n",
    "plot.step(blocks, reward, where='post', label='Subsidy')\n",
    "plot.title('Subsidy and Halvings')\n",
    "plot.xlabel('Blockchain Height (in Blocks)')\n",
    "plot.ylabel('Subsidy (in Bitcoin)')\n",
    "plot.ticklabel_format(useOffset=False, axis='x', style='plain')\n",
    "plot.grid(True, axis='x')\n",
    "plot.yticks(reward)\n",
    "plot.axvline(x=current_blockchain_height, color='red', label=f'We are here ({current_date})')\n",
    "plot.axvline(x=bitcoin_creation_dead_blockchain_height, color='orange', label=f'Subsidy = 0')\n",
    "plot.legend(loc=\"upper right\")\n",
    "\n",
    "ax = plot.gca()\n",
    "labels = ax.get_yticklabels()\n",
    "ax.yaxis.set_major_formatter(FormatStrFormatter('%.3f'))\n",
    "for i in range(1, halvings-4):\n",
    "    labels[-i].set_visible(False)\n",
    "\n",
    "\n",
    "plot.show()"
   ]
  },
  {
   "cell_type": "markdown",
   "source": [
    "#### How long does it take for Bitcoin to be halved?\n",
    "\n",
    "$$\n",
    "10 \\mathrm{min} * 210\\,000 = 21\\,000\\,000 \\mathrm{min}\n",
    "$$\n",
    "\n",
    "$$\n",
    "\\frac{21\\,000\\,000 \\mathrm{min}}{365 * 24 * 60} \\approx 4 \\mathrm{years}\n",
    "$$\n",
    "\n",
    "#### When will the last bitcoin be mined\n",
    "\n",
    "\n",
    "The year of the last bitcoin can now be estimated like this:\n",
    "$$\n",
    "2009 + 33 * 4 \\mathrm{years} = 2141\n",
    "$$\n",
    "\n",
    "A better estimation:"
   ],
   "metadata": {
    "collapsed": false
   }
  },
  {
   "cell_type": "code",
   "execution_count": 4,
   "outputs": [
    {
     "name": "stdout",
     "output_type": "stream",
     "text": [
      "Year of last mined coin: 2140\n"
     ]
    }
   ],
   "source": [
    "from datetime import datetime\n",
    "from dateutil.relativedelta import relativedelta\n",
    "\n",
    "first_block_date = datetime(2009, 1, 3)\n",
    "minutes = (33 * 210_000 * 10)\n",
    "\n",
    "print(\"Year of last mined coin: \" + str((first_block_date + relativedelta(minutes=minutes)).year))"
   ],
   "metadata": {
    "collapsed": false,
    "pycharm": {
     "name": "#%%\n"
    }
   }
  },
  {
   "cell_type": "markdown",
   "source": [],
   "metadata": {
    "collapsed": false
   }
  },
  {
   "cell_type": "markdown",
   "source": [
    "## What is the maximum total supply of Bitcoin?\n",
    "\n",
    "$$ 50 * 210\\,000 = 10\\,500\\,000 $$\n",
    "\n",
    "\n",
    "\n",
    "$$ \\frac{50}{2} * 210\\,000 = 5\\,250\\,000 $$\n",
    "\n",
    "\n",
    "\n",
    "$$ \\frac{50}{4} * 210\\,000 = 2\\,625\\,000 $$\n",
    "\n",
    "#### Wrong\n",
    "\n",
    "$$ \\frac{50}{2^{0}} * 210\\,000 + \\frac{50}{2^{1}} * 210\\,000 +  \\frac{50}{2^{2}} * 210\\,000 + \\frac{50}{2^{3}} * 210\\,000 + \\cdots + \\frac{50}{2^{32}} *  210\\,000 = Total Bitcoins $$\n",
    "\n",
    "$$ (\\frac{50}{2^{0}} + \\frac{50}{2^{1}} +  \\frac{50}{2^{2}} + \\frac{50}{2^{3}} + \\cdots + \\frac{50}{2^{32}}) * 210\\,000 = Total Bitcoins $$\n",
    "\n",
    "$$ \\sum_{n = 0}^{32}  \\frac{50}{x^{n}} * 210\\,000 = Total Bitcoins $$\n",
    "\n",
    "\n",
    "$$ Total Bitcoins = 20\\,999\\,999.99755528   $$\n",
    "\n",
    "#### Correct\n",
    "$$ \\frac{\\sum_{i = 0}^{32} \\left \\lfloor \\frac{50 * 100\\,000\\,000}{x^{i}} \\right \\rfloor * 210\\,000}{100\\,000\\,000} = \\mathrm{Total Bitcoins} $$\n",
    "\n",
    "$$ Total Bitcoins = 20\\,999\\,999.9769   $$\n",
    "\n"
   ],
   "metadata": {
    "collapsed": false
   }
  },
  {
   "cell_type": "code",
   "execution_count": 5,
   "outputs": [
    {
     "data": {
      "text/plain": "<IPython.core.display.HTML object>",
      "text/html": "<table border=\"1\" class=\"dataframe\">\n  <thead>\n    <tr style=\"text-align: right;\">\n      <th>Halving</th>\n      <th>Wrong calculation with fractions</th>\n      <th>Original calculation with shift operator</th>\n      <th>Error Delta</th>\n    </tr>\n  </thead>\n  <tbody>\n    <tr>\n      <td>0</td>\n      <td>1050000000000000.0</td>\n      <td>1050000000000000</td>\n      <td>0.0</td>\n    </tr>\n    <tr>\n      <td>1</td>\n      <td>1575000000000000.0</td>\n      <td>1575000000000000</td>\n      <td>0.0</td>\n    </tr>\n    <tr>\n      <td>2</td>\n      <td>1837500000000000.0</td>\n      <td>1837500000000000</td>\n      <td>0.0</td>\n    </tr>\n    <tr>\n      <td>3</td>\n      <td>1968750000000000.0</td>\n      <td>1968750000000000</td>\n      <td>0.0</td>\n    </tr>\n    <tr>\n      <td>4</td>\n      <td>2034375000000000.0</td>\n      <td>2034375000000000</td>\n      <td>0.0</td>\n    </tr>\n    <tr>\n      <td>5</td>\n      <td>2067187500000000.0</td>\n      <td>2067187500000000</td>\n      <td>0.0</td>\n    </tr>\n    <tr>\n      <td>6</td>\n      <td>2083593750000000.0</td>\n      <td>2083593750000000</td>\n      <td>0.0</td>\n    </tr>\n    <tr>\n      <td>7</td>\n      <td>2091796875000000.0</td>\n      <td>2091796875000000</td>\n      <td>0.0</td>\n    </tr>\n    <tr>\n      <td>8</td>\n      <td>2095898437500000.0</td>\n      <td>2095898437500000</td>\n      <td>0.0</td>\n    </tr>\n    <tr>\n      <td>9</td>\n      <td>2097949218750000.0</td>\n      <td>2097949218750000</td>\n      <td>0.0</td>\n    </tr>\n    <tr>\n      <td>10</td>\n      <td>2098974609375000.0</td>\n      <td>2098974609270000</td>\n      <td>105000.0</td>\n    </tr>\n    <tr>\n      <td>11</td>\n      <td>2099487304687500.0</td>\n      <td>2099487304530000</td>\n      <td>157500.0</td>\n    </tr>\n    <tr>\n      <td>12</td>\n      <td>2099743652343750.0</td>\n      <td>2099743652160000</td>\n      <td>183750.0</td>\n    </tr>\n    <tr>\n      <td>13</td>\n      <td>2099871826171875.0</td>\n      <td>2099871825870000</td>\n      <td>301875.0</td>\n    </tr>\n    <tr>\n      <td>14</td>\n      <td>2099935913085937.5</td>\n      <td>2099935912620000</td>\n      <td>465937.5</td>\n    </tr>\n    <tr>\n      <td>15</td>\n      <td>2099967956542968.8</td>\n      <td>2099967955890000</td>\n      <td>652968.75</td>\n    </tr>\n    <tr>\n      <td>16</td>\n      <td>2099983978271484.5</td>\n      <td>2099983977420000</td>\n      <td>851484.375</td>\n    </tr>\n    <tr>\n      <td>17</td>\n      <td>2099991989135742.2</td>\n      <td>2099991988080000</td>\n      <td>1055742.1875</td>\n    </tr>\n    <tr>\n      <td>18</td>\n      <td>2099995994567871.2</td>\n      <td>2099995993410000</td>\n      <td>1157871.09375</td>\n    </tr>\n    <tr>\n      <td>19</td>\n      <td>2099997997283935.8</td>\n      <td>2099997995970000</td>\n      <td>1313935.546875</td>\n    </tr>\n    <tr>\n      <td>20</td>\n      <td>2099998998641968.0</td>\n      <td>2099998997250000</td>\n      <td>1391967.7734375</td>\n    </tr>\n    <tr>\n      <td>21</td>\n      <td>2099999499320984.0</td>\n      <td>2099999497890000</td>\n      <td>1430983.88671875</td>\n    </tr>\n    <tr>\n      <td>22</td>\n      <td>2099999749660492.0</td>\n      <td>2099999748210000</td>\n      <td>1450491.943359375</td>\n    </tr>\n    <tr>\n      <td>23</td>\n      <td>2099999874830246.0</td>\n      <td>2099999873370000</td>\n      <td>1460245.9716796875</td>\n    </tr>\n    <tr>\n      <td>24</td>\n      <td>2099999937415123.0</td>\n      <td>2099999935950000</td>\n      <td>1465122.9858398438</td>\n    </tr>\n    <tr>\n      <td>25</td>\n      <td>2099999968707561.5</td>\n      <td>2099999967240000</td>\n      <td>1467561.4929199219</td>\n    </tr>\n    <tr>\n      <td>26</td>\n      <td>2099999984353780.8</td>\n      <td>2099999982780000</td>\n      <td>1573780.746459961</td>\n    </tr>\n    <tr>\n      <td>27</td>\n      <td>2099999992176890.5</td>\n      <td>2099999990550000</td>\n      <td>1626890.3732299805</td>\n    </tr>\n    <tr>\n      <td>28</td>\n      <td>2099999996088445.2</td>\n      <td>2099999994330000</td>\n      <td>1758445.1866149902</td>\n    </tr>\n    <tr>\n      <td>29</td>\n      <td>2099999998044222.8</td>\n      <td>2099999996220000</td>\n      <td>1824222.5933074951</td>\n    </tr>\n    <tr>\n      <td>30</td>\n      <td>2099999999022111.5</td>\n      <td>2099999997060000</td>\n      <td>1962111.2966537476</td>\n    </tr>\n    <tr>\n      <td>31</td>\n      <td>2099999999511055.8</td>\n      <td>2099999997480000</td>\n      <td>2031055.6483268738</td>\n    </tr>\n    <tr>\n      <td>32</td>\n      <td>2099999999755528.0</td>\n      <td>2099999997690000</td>\n      <td>2065527.824163437</td>\n    </tr>\n  </tbody>\n</table>"
     },
     "metadata": {},
     "output_type": "display_data"
    },
    {
     "name": "stdout",
     "output_type": "stream",
     "text": [
      "wrong   20999999.99755528\n",
      "error 2065527.824163437\n",
      "shift   20999999.9769\n",
      "correct 20999999.9769\n"
     ]
    }
   ],
   "source": [
    "wrong = 0\n",
    "correct = 0\n",
    "shift = 0\n",
    "error = 0\n",
    "\n",
    "rows = []\n",
    "\n",
    "for i in range(0, 33):\n",
    "    # this is wrong because we include the fractions\n",
    "    wrong += 210_000 * (50.0 * COIN / (2 ** i))\n",
    "\n",
    "    # halving like the original with shift operator, which truncated fractions -> correct result\n",
    "    shift += 210_000 * ((50 * COIN) >> i)\n",
    "\n",
    "    # summing up the error\n",
    "    error += 210_000 * (50.0 * COIN / (2 ** i)) - 210_000 * ((50 * COIN) >> i)\n",
    "\n",
    "    # this is the corrected calculation, which truncates the decimals by using the floor method\n",
    "    correct += 210_000 * np.floor(50.0 * COIN / 2 ** i)\n",
    "\n",
    "    rows.append([i, str(wrong), str(shift), str(error)])\n",
    "\n",
    "\n",
    "df = pd.DataFrame(rows, columns=[\"Halving\", \"Wrong calculation with fractions\", \"Original calculation with shift operator\", \"Error Delta\" ])\n",
    "\n",
    "display(HTML(df.to_html(index=False)))\n",
    "\n",
    "print(\"wrong  \", wrong / COIN)\n",
    "print(\"error\", error )\n",
    "print(\"shift  \", shift / COIN )\n",
    "print(\"correct\", correct / COIN )"
   ],
   "metadata": {
    "collapsed": false,
    "pycharm": {
     "name": "#%%\n"
    }
   }
  },
  {
   "cell_type": "code",
   "execution_count": 6,
   "metadata": {
    "pycharm": {
     "name": "#%%\n"
    }
   },
   "outputs": [
    {
     "data": {
      "text/plain": "<Figure size 432x288 with 1 Axes>",
      "image/png": "[encoded data removed]"
     },
     "metadata": {
      "needs_background": "light"
     },
     "output_type": "display_data"
    }
   ],
   "source": [
    "import numpy as np\n",
    "import matplotlib.pyplot as plot\n",
    "\n",
    "halving_interval = 210_000\n",
    "reward_start = 50\n",
    "\n",
    "halvings = np.arange(64)\n",
    "\n",
    "total = np.arange(64)\n",
    "\n",
    "total_tmp = 0\n",
    "\n",
    "for a in halvings:\n",
    "    total_tmp += halving_interval * (reward_start / 2 ** a)\n",
    "    np.put(total, a, total_tmp)\n",
    "\n",
    "plot.plot(halvings, total)\n",
    "plot.title('Bitcoin Total')\n",
    "plot.xlabel('Halvings')\n",
    "plot.ylabel('Total')\n",
    "plot.grid(True, which='both')\n",
    "plot.show()"
   ]
  }
 ],
 "metadata": {
  "kernelspec": {
   "display_name": "Python 3 (ipykernel)",
   "language": "python",
   "name": "python3"
  },
  "language_info": {
   "codemirror_mode": {
    "name": "ipython",
    "version": 3
   },
   "file_extension": ".py",
   "mimetype": "text/x-python",
   "name": "python",
   "nbconvert_exporter": "python",
   "pygments_lexer": "ipython3",
   "version": "3.9.7"
  }
 },
 "nbformat": 4,
 "nbformat_minor": 1
}